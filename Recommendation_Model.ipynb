{
 "cells": [
  {
   "cell_type": "code",
   "execution_count": null,
   "metadata": {},
   "outputs": [],
   "source": [
    "import pandas as pd\n",
    "from sklearn.ensemble import GradientBoostingRegressor\n",
    "import joblib\n",
    "import numpy"
   ]
  },
  {
   "cell_type": "code",
   "execution_count": null,
   "metadata": {},
   "outputs": [],
   "source": [
    "# Load the course ratings dataset\n",
    "ratings_data = pd.read_csv('employee_course_ratings.csv')\n",
    "\n",
    "# Extract relevant columns\n",
    "course_ratings = ratings_data[['CourseID', 'CourseName', 'Rating']]"
   ]
  },
  {
   "cell_type": "code",
   "execution_count": null,
   "metadata": {},
   "outputs": [],
   "source": [
    "def create_course_average_ratings(course_ratings):\n",
    "    # Calculate the average rating for each course\n",
    "    average_ratings = course_ratings.groupby('CourseName')['Rating'].mean().reset_index()\n",
    "    # Remove duplicate course names to get unique courses\n",
    "    unique_courses = average_ratings.drop_duplicates(subset='CourseName')\n",
    "    # Rename the columns to 'Courses' and 'AverageRating'\n",
    "    unique_courses = unique_courses.rename(columns={'CourseName': 'Courses', 'Rating': 'AverageRating'})\n",
    "    return unique_courses\n",
    "\n",
    "# Create the DataFrame\n",
    "course_average_ratings = create_course_average_ratings(course_ratings)\n",
    "\n",
    "\n",
    "print(course_average_ratings)\n"
   ]
  },
  {
   "cell_type": "code",
   "execution_count": null,
   "metadata": {},
   "outputs": [],
   "source": [
    "def recommend_courses_based_on_score(predicted_score, course_average_ratings):\n",
    "    # Define a mapping of predicted scores to rating groups\n",
    "    rating_group_mapping = {\n",
    "        10: 5,\n",
    "        9: 5,\n",
    "        8: 4,\n",
    "        7: 4,\n",
    "        6: 3,\n",
    "        5: 3,\n",
    "        4: 2,\n",
    "        3: 2,\n",
    "        2: 1,\n",
    "        1: 1,\n",
    "    }\n",
    "\n",
    "    # Ensure the predicted score is within the range of available rating groups\n",
    "    predicted_score = int(round(predicted_score))\n",
    "    if predicted_score < 1:\n",
    "        predicted_score = 1\n",
    "    elif predicted_score > len(rating_group_mapping):\n",
    "        predicted_score = len(rating_group_mapping)\n",
    "\n",
    "    # Map the predicted score to the corresponding rating group\n",
    "    predicted_rating_group = rating_group_mapping.get(predicted_score, 0)  # Default to 0 if score not found\n",
    "\n",
    "    \n",
    "    # Filter courses based on the specified rating group\n",
    "    courses_in_rating_group = course_average_ratings[course_average_ratings['AverageRating'] == predicted_rating_group]\n",
    "\n",
    "    # Get the unique course names in the rating group\n",
    "    recommended_courses = list(set(courses_in_rating_group['Courses']))\n",
    "    \n",
    "    return recommended_courses"
   ]
  },
  {
   "cell_type": "code",
   "execution_count": null,
   "metadata": {},
   "outputs": [],
   "source": [
    "# Test the Model:\n",
    "\n",
    "# Load the trained model\n",
    "trained_model = joblib.load('Employee_Perfomance_Prediction.joblib')\n",
    "\n",
    "# Define the feature names\n",
    "feature_names = ['YearsExperience', 'TechnicalSkills', 'CommunicationSkills', 'ProblemSolving', 'Leadership']\n",
    "\n",
    "# Input the new data with feature names\n",
    "new_data = pd.DataFrame([[1.0, 2.5, 1.8, 2.2, 1.3]], columns=feature_names)\n",
    "\n",
    "# Use the trained model to make predictions\n",
    "predicted_scores = trained_model.predict(new_data)[0]\n",
    "\n",
    "predicted_employee_score = predicted_scores  # Extract the first element of the predicted_scores array\n",
    "recommended_courses = recommend_courses_based_on_score(predicted_scores, course_average_ratings)\n",
    "print(f\"Recommended courses for predicted score {predicted_scores}:\")\n",
    "for i, course in enumerate(recommended_courses):\n",
    "    print(f\"{i+1}. {course}\")"
   ]
  }
 ],
 "metadata": {
  "kernelspec": {
   "display_name": "Python 3 (ipykernel)",
   "language": "python",
   "name": "python3"
  },
  "language_info": {
   "codemirror_mode": {
    "name": "ipython",
    "version": 3
   },
   "file_extension": ".py",
   "mimetype": "text/x-python",
   "name": "python",
   "nbconvert_exporter": "python",
   "pygments_lexer": "ipython3",
   "version": "3.9.12"
  }
 },
 "nbformat": 4,
 "nbformat_minor": 2
}
